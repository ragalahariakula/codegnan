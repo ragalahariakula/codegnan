{
 "cells": [
  {
   "cell_type": "code",
   "execution_count": 1,
   "id": "e721c08d",
   "metadata": {},
   "outputs": [],
   "source": [
    "import pandas as pd\n",
    "import numpy as np\n",
    "import matplotlib.pyplot as plt"
   ]
  },
  {
   "cell_type": "code",
   "execution_count": 2,
   "id": "09a198d8",
   "metadata": {},
   "outputs": [
    {
     "data": {
      "text/html": [
       "<div>\n",
       "<style scoped>\n",
       "    .dataframe tbody tr th:only-of-type {\n",
       "        vertical-align: middle;\n",
       "    }\n",
       "\n",
       "    .dataframe tbody tr th {\n",
       "        vertical-align: top;\n",
       "    }\n",
       "\n",
       "    .dataframe thead th {\n",
       "        text-align: right;\n",
       "    }\n",
       "</style>\n",
       "<table border=\"1\" class=\"dataframe\">\n",
       "  <thead>\n",
       "    <tr style=\"text-align: right;\">\n",
       "      <th></th>\n",
       "      <th>Unnamed: 0</th>\n",
       "      <th>TV</th>\n",
       "      <th>radio</th>\n",
       "      <th>newspaper</th>\n",
       "      <th>sales</th>\n",
       "    </tr>\n",
       "  </thead>\n",
       "  <tbody>\n",
       "    <tr>\n",
       "      <th>0</th>\n",
       "      <td>1</td>\n",
       "      <td>230.1</td>\n",
       "      <td>37.8</td>\n",
       "      <td>69.2</td>\n",
       "      <td>22.1</td>\n",
       "    </tr>\n",
       "    <tr>\n",
       "      <th>1</th>\n",
       "      <td>2</td>\n",
       "      <td>44.5</td>\n",
       "      <td>39.3</td>\n",
       "      <td>45.1</td>\n",
       "      <td>10.4</td>\n",
       "    </tr>\n",
       "    <tr>\n",
       "      <th>2</th>\n",
       "      <td>3</td>\n",
       "      <td>17.2</td>\n",
       "      <td>45.9</td>\n",
       "      <td>69.3</td>\n",
       "      <td>9.3</td>\n",
       "    </tr>\n",
       "    <tr>\n",
       "      <th>3</th>\n",
       "      <td>4</td>\n",
       "      <td>151.5</td>\n",
       "      <td>41.3</td>\n",
       "      <td>58.5</td>\n",
       "      <td>18.5</td>\n",
       "    </tr>\n",
       "    <tr>\n",
       "      <th>4</th>\n",
       "      <td>5</td>\n",
       "      <td>180.8</td>\n",
       "      <td>10.8</td>\n",
       "      <td>58.4</td>\n",
       "      <td>12.9</td>\n",
       "    </tr>\n",
       "    <tr>\n",
       "      <th>...</th>\n",
       "      <td>...</td>\n",
       "      <td>...</td>\n",
       "      <td>...</td>\n",
       "      <td>...</td>\n",
       "      <td>...</td>\n",
       "    </tr>\n",
       "    <tr>\n",
       "      <th>195</th>\n",
       "      <td>196</td>\n",
       "      <td>38.2</td>\n",
       "      <td>3.7</td>\n",
       "      <td>13.8</td>\n",
       "      <td>7.6</td>\n",
       "    </tr>\n",
       "    <tr>\n",
       "      <th>196</th>\n",
       "      <td>197</td>\n",
       "      <td>94.2</td>\n",
       "      <td>4.9</td>\n",
       "      <td>8.1</td>\n",
       "      <td>9.7</td>\n",
       "    </tr>\n",
       "    <tr>\n",
       "      <th>197</th>\n",
       "      <td>198</td>\n",
       "      <td>177.0</td>\n",
       "      <td>9.3</td>\n",
       "      <td>6.4</td>\n",
       "      <td>12.8</td>\n",
       "    </tr>\n",
       "    <tr>\n",
       "      <th>198</th>\n",
       "      <td>199</td>\n",
       "      <td>283.6</td>\n",
       "      <td>42.0</td>\n",
       "      <td>66.2</td>\n",
       "      <td>25.5</td>\n",
       "    </tr>\n",
       "    <tr>\n",
       "      <th>199</th>\n",
       "      <td>200</td>\n",
       "      <td>232.1</td>\n",
       "      <td>8.6</td>\n",
       "      <td>8.7</td>\n",
       "      <td>13.4</td>\n",
       "    </tr>\n",
       "  </tbody>\n",
       "</table>\n",
       "<p>200 rows × 5 columns</p>\n",
       "</div>"
      ],
      "text/plain": [
       "     Unnamed: 0     TV  radio  newspaper  sales\n",
       "0             1  230.1   37.8       69.2   22.1\n",
       "1             2   44.5   39.3       45.1   10.4\n",
       "2             3   17.2   45.9       69.3    9.3\n",
       "3             4  151.5   41.3       58.5   18.5\n",
       "4             5  180.8   10.8       58.4   12.9\n",
       "..          ...    ...    ...        ...    ...\n",
       "195         196   38.2    3.7       13.8    7.6\n",
       "196         197   94.2    4.9        8.1    9.7\n",
       "197         198  177.0    9.3        6.4   12.8\n",
       "198         199  283.6   42.0       66.2   25.5\n",
       "199         200  232.1    8.6        8.7   13.4\n",
       "\n",
       "[200 rows x 5 columns]"
      ]
     },
     "execution_count": 2,
     "metadata": {},
     "output_type": "execute_result"
    }
   ],
   "source": [
    "df=pd.read_csv(\"Advertising.csv\")\n",
    "df"
   ]
  },
  {
   "cell_type": "code",
   "execution_count": 3,
   "id": "b02417d5",
   "metadata": {},
   "outputs": [],
   "source": [
    "df.drop('Unnamed: 0',axis=1,inplace=True)"
   ]
  },
  {
   "cell_type": "code",
   "execution_count": 4,
   "id": "cfaa35e7",
   "metadata": {},
   "outputs": [
    {
     "data": {
      "text/plain": [
       "Index(['TV', 'radio', 'newspaper', 'sales'], dtype='object')"
      ]
     },
     "execution_count": 4,
     "metadata": {},
     "output_type": "execute_result"
    }
   ],
   "source": [
    "df.columns"
   ]
  },
  {
   "cell_type": "markdown",
   "id": "03c716fe",
   "metadata": {},
   "source": [
    "mapping the data into independent and dependent variables"
   ]
  },
  {
   "cell_type": "code",
   "execution_count": 5,
   "id": "0d063590",
   "metadata": {},
   "outputs": [],
   "source": [
    "X = df['TV'].values\n",
    "Y = df['sales'].values"
   ]
  },
  {
   "cell_type": "markdown",
   "id": "5f49e2ee",
   "metadata": {},
   "source": [
    "First we need to cal.the 'm' value using Method of Least SQuares (OLS) \n",
    "Slope(b1) = ∑(x - (mean of x)(y - (mean of y))/∑(x - (mean of x))^2"
   ]
  },
  {
   "cell_type": "code",
   "execution_count": 6,
   "id": "24b77a3a",
   "metadata": {},
   "outputs": [],
   "source": [
    "mean_x = X.mean()\n",
    "mean_y = Y.mean()"
   ]
  },
  {
   "cell_type": "markdown",
   "id": "cc340678",
   "metadata": {},
   "source": [
    "As per formula to cal b1 we create two variables such as numerator and denominator and use a control block (for) -->we pick up length of dataframe"
   ]
  },
  {
   "cell_type": "code",
   "execution_count": 7,
   "id": "ca3f3cca",
   "metadata": {},
   "outputs": [
    {
     "name": "stdout",
     "output_type": "stream",
     "text": [
      "0.04753664043301969\n",
      "7.032593549127704\n"
     ]
    }
   ],
   "source": [
    "n = len(X)\n",
    "#create two variables\n",
    "\n",
    "numer = 0\n",
    "denom = 0\n",
    "for i in range(n):\n",
    "    numer = numer + ((X[i] - mean_x)*(Y[i] - mean_y))\n",
    "    denom = denom + (X[i] - mean_x)**2\n",
    "b1 = numer/denom\n",
    "print(b1)\n",
    "#from line equation we have y = b1*x+b0 \n",
    "b0= mean_y - (b1*mean_x)\n",
    "print(b0)"
   ]
  },
  {
   "cell_type": "markdown",
   "id": "eaa8a57b",
   "metadata": {},
   "source": [
    "based on above values let's frame the line equation"
   ]
  },
  {
   "cell_type": "code",
   "execution_count": 8,
   "id": "c18f34c3",
   "metadata": {},
   "outputs": [
    {
     "name": "stdout",
     "output_type": "stream",
     "text": [
      "Linear Model is Y= 0.04753664043301969 *x+ 7.032593549127704\n"
     ]
    }
   ],
   "source": [
    "print(\"Linear Model is Y=\",b1,\"*x+\",b0)"
   ]
  },
  {
   "cell_type": "code",
   "execution_count": null,
   "id": "5c628e4c",
   "metadata": {},
   "outputs": [],
   "source": [
    "Now we will try to add new data points by checking min and maxmimum values and creating more datapoints which helps better in visulization then we find the R-Squared value"
   ]
  },
  {
   "cell_type": "code",
   "execution_count": 9,
   "id": "582ec20e",
   "metadata": {},
   "outputs": [
    {
     "data": {
      "text/plain": [
       "Text(0.5, 1.0, 'Mathematical Approach')"
      ]
     },
     "execution_count": 9,
     "metadata": {},
     "output_type": "execute_result"
    },
    {
     "data": {
      "image/png": "[encoded data removed]",
      "text/plain": [
       "<Figure size 640x480 with 1 Axes>"
      ]
     },
     "metadata": {},
     "output_type": "display_data"
    }
   ],
   "source": [
    "min_x = np.min(X) - 100 \n",
    "max_x = np.max(X) + 100\n",
    "#print(min_x,min_y)\n",
    "#now based on above values we will generate more datapoints using linspace()\n",
    "x = np.linspace(min_x,max_x,1000)\n",
    "y = b1*x+b0\n",
    "#now based on inputs and new values let's visualize it\n",
    "plt.scatter(X,Y,color='blue',label=\"Input data\")\n",
    "plt.plot(x,y,color='red',label=\"Regression line\")\n",
    "plt.xlabel(\"Money Spent on TV Ads($)\")\n",
    "plt.ylabel(\"Sales ($)\")\n",
    "plt.title(\"Mathematical Approach\")"
   ]
  },
  {
   "cell_type": "code",
   "execution_count": 10,
   "id": "4a876ff5",
   "metadata": {},
   "outputs": [
    {
     "name": "stdout",
     "output_type": "stream",
     "text": [
      "17.2\n",
      "9.3\n"
     ]
    }
   ],
   "source": [
    "#let's check the predicted values\n",
    "print(X[2]) #check with your input\n",
    "print(Y[2])"
   ]
  },
  {
   "cell_type": "code",
   "execution_count": 11,
   "id": "a8e0967c",
   "metadata": {},
   "outputs": [
    {
     "data": {
      "text/plain": [
       "7.8502237645756425"
      ]
     },
     "execution_count": 11,
     "metadata": {},
     "output_type": "execute_result"
    }
   ],
   "source": [
    "y = b1*X[2] + b0\n",
    "y"
   ]
  },
  {
   "cell_type": "markdown",
   "id": "8f1f2710",
   "metadata": {},
   "source": [
    "R-squared value = 1 - ∑(y predicted - mean of y(each value) )^2/ ∑(y - mean of y)^2\n",
    "R-squared value = 1 - SS(res) Residual sum of squares/SS(tot)  Total Sum of Squares"
   ]
  },
  {
   "cell_type": "code",
   "execution_count": 12,
   "id": "abbe5a0a",
   "metadata": {},
   "outputs": [
    {
     "name": "stdout",
     "output_type": "stream",
     "text": [
      "0.6118750508500708\n",
      "61.187505085007075\n"
     ]
    }
   ],
   "source": [
    "#create two varibales for residual sum of sqaures and total sum of squares\n",
    "ss_tot = 0\n",
    "ss_res = 0\n",
    "n = len(X)\n",
    "for i in range(n):\n",
    "    y_pred = b0+b1*X[i]\n",
    "    ss_tot += (Y[i] - mean_y)**2\n",
    "    ss_res += (y_pred - Y[i])**2\n",
    "r2 = 1-(ss_res/ss_tot)\n",
    "print(r2)\n",
    "print(r2*100)"
   ]
  },
  {
   "cell_type": "markdown",
   "id": "76c39f00",
   "metadata": {},
   "source": [
    "Similarly or Radio and News Paper Ads sales "
   ]
  },
  {
   "cell_type": "markdown",
   "id": "9beb4f35",
   "metadata": {},
   "source": [
    "Radio Advertisements and Sales"
   ]
  },
  {
   "cell_type": "code",
   "execution_count": 13,
   "id": "7ac5d58b",
   "metadata": {},
   "outputs": [],
   "source": [
    "X = df['radio'].values\n",
    "Y = df['sales'].values"
   ]
  },
  {
   "cell_type": "code",
   "execution_count": 14,
   "id": "0998ef5a",
   "metadata": {},
   "outputs": [],
   "source": [
    "mean_x = X.mean()\n",
    "mean_y = Y.mean()"
   ]
  },
  {
   "cell_type": "code",
   "execution_count": 15,
   "id": "64523ec0",
   "metadata": {},
   "outputs": [
    {
     "name": "stdout",
     "output_type": "stream",
     "text": [
      "0.20249578339243954\n",
      "9.311638095158287\n"
     ]
    }
   ],
   "source": [
    "n = len(X)\n",
    "\n",
    "numer = 0\n",
    "denom = 0\n",
    "for i in range(n):\n",
    "    numer = numer + ((X[i] - mean_x)*(Y[i] - mean_y))\n",
    "    denom = denom + (X[i] - mean_x)**2\n",
    "b1 = numer/denom\n",
    "print(b1)\n",
    "\n",
    "b0= mean_y - (b1*mean_x)\n",
    "print(b0)"
   ]
  },
  {
   "cell_type": "code",
   "execution_count": 16,
   "id": "5ece0e71",
   "metadata": {},
   "outputs": [
    {
     "name": "stdout",
     "output_type": "stream",
     "text": [
      "Linear Model is Y= 0.20249578339243954 *x+ 9.311638095158287\n"
     ]
    }
   ],
   "source": [
    "print(\"Linear Model is Y=\",b1,\"*x+\",b0)"
   ]
  },
  {
   "cell_type": "code",
   "execution_count": 17,
   "id": "5174df23",
   "metadata": {},
   "outputs": [
    {
     "data": {
      "text/plain": [
       "Text(0.5, 1.0, 'Mathematical Approach')"
      ]
     },
     "execution_count": 17,
     "metadata": {},
     "output_type": "execute_result"
    },
    {
     "data": {
      "image/png": "[encoded data removed]",
      "text/plain": [
       "<Figure size 640x480 with 1 Axes>"
      ]
     },
     "metadata": {},
     "output_type": "display_data"
    }
   ],
   "source": [
    "min_x = np.min(X) - 100 \n",
    "max_x = np.max(X) + 100\n",
    "\n",
    "x = np.linspace(min_x,max_x,1000)\n",
    "y = b1*x+b0\n",
    "\n",
    "plt.scatter(X,Y,color='blue',label=\"Input data\")\n",
    "plt.plot(x,y,color='red',label=\"Regression line\")\n",
    "plt.xlabel(\"Money Spent on Radio Ads($)\")\n",
    "plt.ylabel(\"Sales ($)\")\n",
    "plt.title(\"Mathematical Approach\")"
   ]
  },
  {
   "cell_type": "code",
   "execution_count": 18,
   "id": "4f2c15cd",
   "metadata": {},
   "outputs": [
    {
     "name": "stdout",
     "output_type": "stream",
     "text": [
      "45.9\n",
      "9.3\n"
     ]
    }
   ],
   "source": [
    "print(X[2])\n",
    "print(Y[2])"
   ]
  },
  {
   "cell_type": "code",
   "execution_count": 19,
   "id": "2c799523",
   "metadata": {},
   "outputs": [
    {
     "data": {
      "text/plain": [
       "18.606194552871262"
      ]
     },
     "execution_count": 19,
     "metadata": {},
     "output_type": "execute_result"
    }
   ],
   "source": [
    "y = b1*X[2] + b0\n",
    "y"
   ]
  },
  {
   "cell_type": "markdown",
   "id": "adabbeeb",
   "metadata": {},
   "source": [
    "R^2"
   ]
  },
  {
   "cell_type": "code",
   "execution_count": 20,
   "id": "0691cb3b",
   "metadata": {},
   "outputs": [
    {
     "name": "stdout",
     "output_type": "stream",
     "text": [
      "0.33203245544529514\n",
      "33.203245544529516\n"
     ]
    }
   ],
   "source": [
    "ss_tot = 0\n",
    "ss_res = 0\n",
    "n = len(X)\n",
    "for i in range(n):\n",
    "    y_pred = b0+b1*X[i]\n",
    "    ss_tot += (Y[i] - mean_y)**2\n",
    "    ss_res += (y_pred - Y[i])**2\n",
    "r2 = 1-(ss_res/ss_tot)\n",
    "print(r2)\n",
    "print(r2*100)"
   ]
  },
  {
   "cell_type": "code",
   "execution_count": null,
   "id": "ca54b51b",
   "metadata": {},
   "outputs": [],
   "source": [
    "News Paper Advertisements and Sales"
   ]
  },
  {
   "cell_type": "code",
   "execution_count": 21,
   "id": "afc0217e",
   "metadata": {},
   "outputs": [],
   "source": [
    "X = df['newspaper'].values\n",
    "Y = df['sales'].values"
   ]
  },
  {
   "cell_type": "code",
   "execution_count": 22,
   "id": "a1e9bd91",
   "metadata": {},
   "outputs": [],
   "source": [
    "mean_x = X.mean()\n",
    "mean_y = Y.mean()"
   ]
  },
  {
   "cell_type": "code",
   "execution_count": 23,
   "id": "1f1ca208",
   "metadata": {},
   "outputs": [
    {
     "name": "stdout",
     "output_type": "stream",
     "text": [
      "0.05469309847227332\n",
      "12.351407069278162\n"
     ]
    }
   ],
   "source": [
    "n = len(X)\n",
    "\n",
    "numer = 0\n",
    "denom = 0\n",
    "for i in range(n):\n",
    "    numer = numer + ((X[i] - mean_x)*(Y[i] - mean_y))\n",
    "    denom = denom + (X[i] - mean_x)**2\n",
    "b1 = numer/denom\n",
    "print(b1)\n",
    "b0= mean_y - (b1*mean_x)\n",
    "print(b0)"
   ]
  },
  {
   "cell_type": "code",
   "execution_count": 24,
   "id": "fa05ea54",
   "metadata": {},
   "outputs": [
    {
     "name": "stdout",
     "output_type": "stream",
     "text": [
      "Linear Model is Y= 0.05469309847227332 *x+ 12.351407069278162\n"
     ]
    }
   ],
   "source": [
    "print(\"Linear Model is Y=\",b1,\"*x+\",b0)"
   ]
  },
  {
   "cell_type": "code",
   "execution_count": 25,
   "id": "b79f76d7",
   "metadata": {},
   "outputs": [
    {
     "data": {
      "text/plain": [
       "Text(0.5, 1.0, 'Mathematical Approach')"
      ]
     },
     "execution_count": 25,
     "metadata": {},
     "output_type": "execute_result"
    },
    {
     "data": {
      "image/png": "[encoded data removed]",
      "text/plain": [
       "<Figure size 640x480 with 1 Axes>"
      ]
     },
     "metadata": {},
     "output_type": "display_data"
    }
   ],
   "source": [
    "min_x = np.min(X) - 100 \n",
    "max_x = np.max(X) + 100\n",
    "\n",
    "x = np.linspace(min_x,max_x,1000)\n",
    "y = b1*x+b0\n",
    "\n",
    "plt.scatter(X,Y,color='blue',label=\"Input data\")\n",
    "plt.plot(x,y,color='red',label=\"Regression line\")\n",
    "plt.xlabel(\"Money Spent on newspaper Ads($)\")\n",
    "plt.ylabel(\"Sales ($)\")\n",
    "plt.title(\"Mathematical Approach\")"
   ]
  },
  {
   "cell_type": "code",
   "execution_count": 26,
   "id": "4ae5eb4b",
   "metadata": {},
   "outputs": [
    {
     "name": "stdout",
     "output_type": "stream",
     "text": [
      "69.3\n",
      "9.3\n"
     ]
    }
   ],
   "source": [
    "print(X[2])\n",
    "print(Y[2])"
   ]
  },
  {
   "cell_type": "code",
   "execution_count": 27,
   "id": "8a58bf0b",
   "metadata": {},
   "outputs": [
    {
     "data": {
      "text/plain": [
       "16.141638793406702"
      ]
     },
     "execution_count": 27,
     "metadata": {},
     "output_type": "execute_result"
    }
   ],
   "source": [
    "y = b1*X[2] + b0\n",
    "y"
   ]
  },
  {
   "cell_type": "markdown",
   "id": "bcee70fd",
   "metadata": {},
   "source": [
    "R^2 value"
   ]
  },
  {
   "cell_type": "code",
   "execution_count": 28,
   "id": "b52f9dd5",
   "metadata": {},
   "outputs": [
    {
     "name": "stdout",
     "output_type": "stream",
     "text": [
      "0.0521204454443045\n",
      "5.21204454443045\n"
     ]
    }
   ],
   "source": [
    "ss_tot = 0\n",
    "ss_res = 0\n",
    "n = len(X)\n",
    "for i in range(n):\n",
    "    y_pred = b0+b1*X[i]\n",
    "    ss_tot += (Y[i] - mean_y)**2\n",
    "    ss_res += (y_pred - Y[i])**2\n",
    "r2 = 1-(ss_res/ss_tot)\n",
    "print(r2)\n",
    "print(r2*100)"
   ]
  },
  {
   "cell_type": "code",
   "execution_count": null,
   "id": "04059f53",
   "metadata": {},
   "outputs": [],
   "source": []
  },
  {
   "cell_type": "code",
   "execution_count": null,
   "id": "d6092165",
   "metadata": {},
   "outputs": [],
   "source": []
  },
  {
   "cell_type": "code",
   "execution_count": null,
   "id": "213a95a0",
   "metadata": {},
   "outputs": [],
   "source": []
  }
 ],
 "metadata": {
  "kernelspec": {
   "display_name": "Python 3 (ipykernel)",
   "language": "python",
   "name": "python3"
  },
  "language_info": {
   "codemirror_mode": {
    "name": "ipython",
    "version": 3
   },
   "file_extension": ".py",
   "mimetype": "text/x-python",
   "name": "python",
   "nbconvert_exporter": "python",
   "pygments_lexer": "ipython3",
   "version": "3.10.9"
  }
 },
 "nbformat": 4,
 "nbformat_minor": 5
}
